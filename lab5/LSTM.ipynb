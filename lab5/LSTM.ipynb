{
  "cells": [
    {
      "cell_type": "code",
      "execution_count": 2,
      "metadata": {
        "colab": {
          "base_uri": "https://localhost:8080/"
        },
        "id": "-VNLoHIMad9b",
        "outputId": "a5e7f689-4542-4b67-bb27-8bb95b39f245"
      },
      "outputs": [
        {
          "name": "stdout",
          "output_type": "stream",
          "text": [
            "Looking in indexes: https://pypi.org/simple, https://us-python.pkg.dev/colab-wheels/public/simple/\n",
            "Requirement already satisfied: kaggle in /usr/local/lib/python3.10/dist-packages (1.5.13)\n",
            "Requirement already satisfied: six>=1.10 in /usr/local/lib/python3.10/dist-packages (from kaggle) (1.16.0)\n",
            "Requirement already satisfied: certifi in /usr/local/lib/python3.10/dist-packages (from kaggle) (2022.12.7)\n",
            "Requirement already satisfied: python-dateutil in /usr/local/lib/python3.10/dist-packages (from kaggle) (2.8.2)\n",
            "Requirement already satisfied: requests in /usr/local/lib/python3.10/dist-packages (from kaggle) (2.27.1)\n",
            "Requirement already satisfied: tqdm in /usr/local/lib/python3.10/dist-packages (from kaggle) (4.65.0)\n",
            "Requirement already satisfied: python-slugify in /usr/local/lib/python3.10/dist-packages (from kaggle) (8.0.1)\n",
            "Requirement already satisfied: urllib3 in /usr/local/lib/python3.10/dist-packages (from kaggle) (1.26.15)\n",
            "Requirement already satisfied: text-unidecode>=1.3 in /usr/local/lib/python3.10/dist-packages (from python-slugify->kaggle) (1.3)\n",
            "Requirement already satisfied: charset-normalizer~=2.0.0 in /usr/local/lib/python3.10/dist-packages (from requests->kaggle) (2.0.12)\n",
            "Requirement already satisfied: idna<4,>=2.5 in /usr/local/lib/python3.10/dist-packages (from requests->kaggle) (3.4)\n",
            "rm: cannot remove '/root/.kaggle': No such file or directory\n",
            "Downloading wikibooks-dataset.zip to /content\n",
            " 99% 1.81G/1.82G [00:15<00:00, 234MB/s]\n",
            "100% 1.82G/1.82G [00:15<00:00, 122MB/s]\n",
            "Archive:  wikibooks-dataset.zip\n",
            "  inflating: wikibooks.sqlite        \n",
            "rm: cannot remove '*.zip': No such file or directory\n"
          ]
        }
      ],
      "source": [
        "!pip install kaggle\n",
        "!rm -r ~/.kaggle\n",
        "!mkdir ~/.kaggle\n",
        "!echo '{\"username\":\"midlow\",\"key\":\"19e4a7b3c26e4d040a5179c6b36318cd\"}' > ~/.kaggle/kaggle.json\n",
        "!chmod 600 ~/.kaggle/kaggle.json\n",
        "!kaggle datasets download -d dhruvildave/wikibooks-dataset\n",
        "!unzip wikibooks-dataset.zip\n",
        "!rm wikibooks-dataset.zip\n",
        "!rm *.zip"
      ]
    },
    {
      "cell_type": "code",
      "execution_count": 3,
      "metadata": {
        "colab": {
          "base_uri": "https://localhost:8080/"
        },
        "id": "qqgN1hEbyhK1",
        "outputId": "210b3bc6-450b-45c4-e4c9-79e0f8334657"
      },
      "outputs": [
        {
          "name": "stdout",
          "output_type": "stream",
          "text": [
            "Installing collected packages: tensorflow-text, keras-nlp\n",
            "Successfully installed keras-nlp-0.5.2 tensorflow-text-2.12.1\n"
          ]
        }
      ],
      "source": [
        "!pip install keras-nlp"
      ]
    },
    {
      "cell_type": "code",
      "execution_count": 4,
      "metadata": {
        "colab": {
          "base_uri": "https://localhost:8080/"
        },
        "id": "gN9xsStVpvB_",
        "outputId": "edf5ef9e-0077-4cc6-a011-298f2ec20044"
      },
      "outputs": [
        {
          "name": "stderr",
          "output_type": "stream",
          "text": [
            "[nltk_data] Downloading package punkt to /root/nltk_data...\n",
            "[nltk_data]   Unzipping tokenizers/punkt.zip.\n"
          ]
        },
        {
          "name": "stdout",
          "output_type": "stream",
          "text": [
            "('Front Page: Radiation Oncology | RTOG Trials | Randomized Trials\\n\\n\\n\\n\\nNon-Hodgkin lymphoma: Main Page  | Randomized\\nOverview: Overview  | \\nFollicular |\\nDiffuse large B-cell |\\nMALT |\\nNodal marginal zone |\\nMantle cell |\\nCLL/SLL |\\nLymphoblastic |\\nBurkitt |\\nNK/T cell |\\nAnaplastic large cell |\\nPrimary CNS Lymphoma\\nTreatment:\\nAggressive |\\nSpecific sites |\\nRadioimmunotherapy\\n\\n\\n\\nChronic Lymphocytic Leukemia and Small Lymphocytic Lymphoma (CLL/SLL)\\n\\n\\nContents\\n\\n1 Overview\\n2 Staging\\n3 Classification\\n4 Richter\\'s transformation\\n5 Radiation Therapy\\n6 Reviews\\n\\n\\n\\nOverview[edit\\xa0| edit source]\\nCLL is the most common leukemia among adults in Western world\\nIt is characterized by accumulation of mature B-cells\\nCLL molecular phenotype: CD5+, CD23+, surface Ig weak, CD79b weak/absent, FMC7 neg.\\nDiagnosis: lymphocytosis (often >5 x 10^9 / L, but not an absolute cutoff)\\nRisk factors are male sex, advanced age, white race, and family history of CLL or lymphoproliferative disorders\\nCause and pathogenesis are largely unknown\\nPeripheral blood of some healthy adults shows circulating B-cell clones with surface phenotypes similar to CLL\\nMonocloncal B-cell lymphomatosis (MBL) indicates presence of such B-cells in blood at <5000 per cubic millimeter\\nPrevalence of MBL may be 3-5% in general population over 50 years of age\\nIt appears that these circulating B-cell clones may be present in blood of for years prior to development of CLL, and that the light chain re-arrangement is the same\\nThus, it may be reasonable to consider MBL a precursor state to CLL, in a similar fashion as MGUS is a precursor state to multiple myeloma\\nCLL and SLL are histologically and immunophenotypically identical\\nBy definition, CLL has more marked peripheral blood involvement\\nCLL: absolute lymphocyte count >=5 x109/L\\nSLL: absolute lymphocyte count <5 x109/L\\nClinical course varies widely, but frequently characterized by indolent behavior\\nTreatment commonly deferred while patients asymptomatic\\nNo consensus on best treatment, but nucleoside analogues and Rituxan have led to improved outcomes\\nStaging[edit\\xa0| edit source]\\nRai Staging\\n\\n\\n\\n\\nRai Stage\\nCriteria\\nSurvival (yr)\\n\\n\\n0\\nlymphocytosis only. no other abnormality\\n> 13\\n\\n\\nI\\nlymphocytosis and lymph node enlargement. no other abnormality\\n8\\n\\n\\nII\\nlymphocytosis and spleen or liver enlargement (w/ or w/o lymph node enlargement). no other abnormality\\n5\\n\\n\\nIII\\nlymphocytosis and anemia (Hgb < 11 g/dL); w/ or w/o spleen / liver / lymph node enlargement. no platelet abnormality\\n2\\n\\n\\nIV\\nlymphocytosis and thrombocytopenia (plts < 100,000 /µL)\\n1\\n\\nBinet Staging\\n\\n\\nBinet Stage\\nCriteria\\nSurvival (yr)\\n\\n\\nA\\n<3 lymph node areas; no anemia or thrombocytopenia\\n12\\n\\n\\nB\\n3 or more lymph node areas; no anemia or thrombocytopenia\\n5\\n\\n\\nC\\nAnemia (Hgb < 11) or thrombocytopenia (< 100,000 /µL)\\n2\\n\\nClassification[edit\\xa0| edit source]\\nMD Anderson; 2007 (1985-2005) PMID 17925562 -- \"Assessment of chronic lymphocytic leukemia and small lymphocytic lymphoma by absolute lymphocyte counts in 2,126 patients: 20 years of experience at the University of Texas M.D. Anderson Cancer Center.\" (Tsimberidou AM, J Clin Oncol. 2007 Oct 10;25(29):4648-56.)\\nRetrospective. 2126 consecutive CLL/SLL patients\\nOutcome: rates of response, OS, and FFS not different among different groups\\nPredictive factors: deletion of 17p or 6q, age >60, b2-microglobulin >2, albumin <3.5, creatinine >1.6\\nConclusion: Patients with CLL or SLL can be treated similarly\\n\\n\\nRichter\\'s transformation[edit\\xa0| edit source]\\nNamed for Maurice N. Richter who described it in 1928\\nDevelopment of high grade NHL (typically diffuse large B-cell lymphoma) in the setting of CLL\\nMay be triggered by viral infections (e.g. EBV) or by genetic defects acquired by the malignant clone\\nOccurs in ~4% of CLL patients\\nResponse rates to chemotherapy are low, up to ~40%; median OS is ~8 months\\n\\n\\n1993 PMID 7693038, 1993 — \"Common clonal origin of chronic lymphocytic leukemia and high-grade lymphoma of Richter\\'s syndrome.\" Cherepakhin V et al. Blood. 1993 Nov 15;82(10):3141-7.\\n1975 PMID 1096589, 1975 — \"Richter\\'s syndrome. A terminal complication of chronic lymphocytic leukemia with distinct clinicopathologic features.\" Long JC et al. Am J Clin Pathol. 1975 Jun;63(6):786-95.\\nOriginal description; 1928 PMID 19969796, 1928 — \"Generalized reticular cell sarcoma of lymph nodes associated with lymphatic leukemia.\" Richter MN et al. Am J Pathol. 1928; 4:285.\\nRadiation Therapy[edit\\xa0| edit source]\\nPlease see spleen irradiation\\nReviews[edit\\xa0| edit source]\\n2006 PMID 16983131 -- \"Narrative review: initial management of newly diagnosed, early-stage chronic lymphocytic leukemia.\" (Shanafelt TD, Ann Intern Med. 2006 Sep 19;145(6):435-47.)\\n2006 PMID 16901035 -- \"Chronic lymphocytic leukemia: diagnosis and treatment.\" (Yee KW, Mayo Clin Proc. 2006 Aug;81(8):1105-29.)',)\n"
          ]
        }
      ],
      "source": [
        "import sqlite3\n",
        "import keras_nlp\n",
        "import nltk\n",
        "from nltk.tokenize import word_tokenize\n",
        "import tensorflow as tf\n",
        "import numpy as np\n",
        "from tensorflow.keras.preprocessing.text import Tokenizer\n",
        "from tensorflow.keras.preprocessing.sequence import pad_sequences\n",
        "\n",
        "nltk.download('punkt')\n",
        "\n",
        "con = sqlite3.connect(\"wikibooks.sqlite\")\n",
        "cur = con.cursor()\n",
        "res = cur.execute(\"SELECT body_text FROM en\")\n",
        "print(res.fetchone())\n",
        "data = res.fetchall()\n",
        "text = \"\"\n",
        "for d in data[:2000]:\n",
        "    text += d[0]\n",
        "corpus = [t[0] for t in data]\n",
        "del data"
      ]
    },
    {
      "attachments": {},
      "cell_type": "markdown",
      "metadata": {
        "id": "ezV3PPBHLShf"
      },
      "source": [
        "##Посимвольная токенизация"
      ]
    },
    {
      "cell_type": "code",
      "execution_count": 5,
      "metadata": {
        "id": "pp4JLHkKLAp6"
      },
      "outputs": [],
      "source": [
        "text = text[:2000]  # берём 2000 символов\n",
        "tokenizer = tf.keras.preprocessing.text.Tokenizer(filters='!\"#$%&()*+,-./:;<=>?@[\\\\]^_`{|}~\\t\\n', char_level=True )\n",
        "tokenizer.fit_on_texts(text)\n",
        "\n",
        "sequences = tokenizer.texts_to_sequences(text)\n",
        "input_data = np.array(sequences[:-1])\n",
        "target_data = np.array(sequences[1:])"
      ]
    },
    {
      "cell_type": "code",
      "execution_count": 7,
      "metadata": {
        "id": "wU2sR6yN61lY"
      },
      "outputs": [],
      "source": [
        "from tensorflow.keras.layers import Embedding, LSTM, Dense, TimeDistributed, Dropout"
      ]
    },
    {
      "cell_type": "code",
      "execution_count": 8,
      "metadata": {
        "colab": {
          "base_uri": "https://localhost:8080/"
        },
        "id": "-VnykUvVLJZG",
        "outputId": "e592b1f7-eae3-4c09-b240-652f04fd7af2"
      },
      "outputs": [
        {
          "data": {
            "text/plain": [
              "<keras.callbacks.History at 0x7f79c1c06d40>"
            ]
          },
          "execution_count": 8,
          "metadata": {},
          "output_type": "execute_result"
        }
      ],
      "source": [
        "char_model1 = tf.keras.models.Sequential([\n",
        "    Embedding(input_dim=len(tokenizer.word_index)+1, output_dim=10, input_length=input_data.shape[1]),\n",
        "    LSTM(units=32, return_sequences=True),\n",
        "    TimeDistributed(Dense(units=len(tokenizer.word_index)+1, activation='softmax'))\n",
        "])\n",
        "\n",
        "char_model1.compile(loss='sparse_categorical_crossentropy', optimizer='adam', metrics=['accuracy'])\n",
        "char_model1.fit(input_data, target_data, epochs=10, verbose=0)"
      ]
    },
    {
      "cell_type": "code",
      "execution_count": 12,
      "metadata": {
        "colab": {
          "base_uri": "https://localhost:8080/"
        },
        "id": "AGmL5N1RotmA",
        "outputId": "dba2c312-0892-4329-b6eb-0294a180258c"
      },
      "outputs": [
        {
          "name": "stdout",
          "output_type": "stream",
          "text": [
            "1/1 [==============================] - 0s 32ms/step\n",
            "1/1 [==============================] - 0s 41ms/step\n",
            "1/1 [==============================] - 0s 31ms/step\n",
            "1/1 [==============================] - 0s 40ms/step\n",
            "1/1 [==============================] - 0s 57ms/step\n",
            "l e e \n"
          ]
        }
      ],
      "source": [
        "generated_text = 'l'\n",
        "for i in range(5):\n",
        "    sequence = tokenizer.texts_to_sequences(generated_text)[-input_data.shape[1]:]\n",
        "    sequence = np.pad(sequence, (0, input_data.shape[1]-len(sequence)), 'constant', constant_values=0)\n",
        "    prediction = char_model1.predict(np.array([sequence]))\n",
        "    next_token = np.argmax(prediction[0][-1])\n",
        "    generated_text += tokenizer.index_word[next_token]\n",
        "\n",
        "print(generated_text)"
      ]
    },
    {
      "cell_type": "code",
      "execution_count": 13,
      "metadata": {
        "colab": {
          "base_uri": "https://localhost:8080/"
        },
        "id": "QjxA1BrncCGM",
        "outputId": "3ae45aa5-c8c8-4ad8-b7ea-b128a5bdce49"
      },
      "outputs": [
        {
          "data": {
            "text/plain": [
              "<keras.callbacks.History at 0x7f79b440f5e0>"
            ]
          },
          "execution_count": 13,
          "metadata": {},
          "output_type": "execute_result"
        }
      ],
      "source": [
        "char_model2 = tf.keras.models.Sequential([\n",
        "    Embedding(input_dim=len(tokenizer.word_index)+1, output_dim=10, input_length=input_data.shape[1]),\n",
        "    LSTM(units=128, return_sequences=True),\n",
        "    LSTM(units=64, return_sequences=True),\n",
        "    LSTM(units=32, return_sequences=True),\n",
        "    TimeDistributed(Dense(units=len(tokenizer.word_index)+1, activation='softmax'))\n",
        "])\n",
        "\n",
        "char_model2.compile(loss='sparse_categorical_crossentropy', optimizer='adam', metrics=['accuracy'])\n",
        "char_model2.fit(input_data, target_data, epochs=10, verbose=0)"
      ]
    },
    {
      "cell_type": "code",
      "execution_count": 15,
      "metadata": {
        "colab": {
          "base_uri": "https://localhost:8080/"
        },
        "id": "iFZdWhBuL0ia",
        "outputId": "134b1c10-b274-42d0-f74b-80e09fa871a3"
      },
      "outputs": [
        {
          "name": "stdout",
          "output_type": "stream",
          "text": [
            "1/1 [==============================] - 0s 92ms/step\n",
            "1/1 [==============================] - 0s 33ms/step\n",
            "1/1 [==============================] - 0s 22ms/step\n",
            "1/1 [==============================] - 0s 24ms/step\n",
            "1/1 [==============================] - 0s 25ms/step\n",
            "l t t \n"
          ]
        }
      ],
      "source": [
        "generated_text = 'l'\n",
        "for i in range(5):\n",
        "    sequence = tokenizer.texts_to_sequences(generated_text)[-input_data.shape[1]:]\n",
        "    sequence = np.pad(sequence, (0, input_data.shape[1]-len(sequence)), 'constant', constant_values=0)\n",
        "    prediction = char_model2.predict(np.array([sequence]))\n",
        "    next_token = np.argmax(prediction[0][-1])\n",
        "    generated_text += tokenizer.index_word[next_token]\n",
        "\n",
        "print(generated_text)"
      ]
    },
    {
      "attachments": {},
      "cell_type": "markdown",
      "metadata": {
        "id": "9KdheOpML7jB"
      },
      "source": [
        "##Пословная токенизация"
      ]
    },
    {
      "cell_type": "code",
      "execution_count": 16,
      "metadata": {
        "id": "VL0c3QBDS1LZ"
      },
      "outputs": [],
      "source": [
        "import re\n",
        "\n",
        "raw_corpus = corpus[:5]  # берём 5 текстов\n",
        "corpus = []\n",
        "for t in raw_corpus:\n",
        "  corpus.append(re.sub(r'[^a-zA-Z0-9 ]', ' ', t))\n",
        "\n",
        "tokenizer = Tokenizer()\n",
        "tokenizer.fit_on_texts(corpus)\n",
        "total_words = len(tokenizer.word_index) + 1\n",
        "\n",
        "input_sequences = []\n",
        "for line in corpus:\n",
        "    token_list = tokenizer.texts_to_sequences([line])[0]\n",
        "    for i in range(1, len(token_list)):\n",
        "        n_gram_sequence = token_list[:i+1]\n",
        "        input_sequences.append(n_gram_sequence)\n",
        "\n",
        "max_sequence_len = max([len(x) for x in input_sequences])\n",
        "input_sequences = np.array(pad_sequences(input_sequences, maxlen=max_sequence_len, padding='pre'))\n",
        "predictors, label = input_sequences[:,:-1], input_sequences[:,-1]"
      ]
    },
    {
      "cell_type": "code",
      "execution_count": 17,
      "metadata": {
        "colab": {
          "base_uri": "https://localhost:8080/"
        },
        "id": "gYcbyFwhS1XW",
        "outputId": "89146f08-3ad2-4f58-d3d3-80e707d800c6"
      },
      "outputs": [
        {
          "name": "stdout",
          "output_type": "stream",
          "text": [
            "Epoch 1/10\n",
            "35/35 [==============================] - 14s 330ms/step - loss: 5.8292\n",
            "Epoch 2/10\n",
            "35/35 [==============================] - 5s 143ms/step - loss: 5.5048\n",
            "Epoch 3/10\n",
            "35/35 [==============================] - 7s 187ms/step - loss: 5.4322\n",
            "Epoch 4/10\n",
            "35/35 [==============================] - 3s 97ms/step - loss: 5.3841\n",
            "Epoch 5/10\n",
            "35/35 [==============================] - 2s 71ms/step - loss: 5.3529\n",
            "Epoch 6/10\n",
            "35/35 [==============================] - 4s 106ms/step - loss: 5.3692\n",
            "Epoch 7/10\n",
            "35/35 [==============================] - 2s 67ms/step - loss: 5.7332\n",
            "Epoch 8/10\n",
            "35/35 [==============================] - 2s 71ms/step - loss: 5.1238\n",
            "Epoch 9/10\n",
            "35/35 [==============================] - 2s 60ms/step - loss: 5.0579\n",
            "Epoch 10/10\n",
            "35/35 [==============================] - 2s 43ms/step - loss: 4.9603\n"
          ]
        },
        {
          "data": {
            "text/plain": [
              "<keras.callbacks.History at 0x7f79b01424a0>"
            ]
          },
          "execution_count": 17,
          "metadata": {},
          "output_type": "execute_result"
        }
      ],
      "source": [
        "word_model = tf.keras.Sequential()\n",
        "word_model.add(Embedding(total_words, 10, input_length=max_sequence_len-1))\n",
        "word_model.add(LSTM(256))\n",
        "word_model.add(Dense(total_words, activation='softmax'))\n",
        "\n",
        "word_model.compile(loss='categorical_crossentropy', optimizer='adam')\n",
        "word_model.fit(predictors, tf.keras.utils.to_categorical(label, num_classes=total_words), epochs=10)"
      ]
    },
    {
      "cell_type": "code",
      "execution_count": 18,
      "metadata": {
        "colab": {
          "base_uri": "https://localhost:8080/"
        },
        "id": "eBGf7l8TpP8M",
        "outputId": "1114d44f-fa53-43f5-cd31-68f7979275f6"
      },
      "outputs": [
        {
          "name": "stdout",
          "output_type": "stream",
          "text": [
            "1/1 [==============================] - 0s 408ms/step\n",
            "I want to edit\n"
          ]
        }
      ],
      "source": [
        "seed_text = \"I want to\"\n",
        "next_words = 1\n",
        "\n",
        "for _ in range(next_words):\n",
        "    encoded = tokenizer.texts_to_sequences([seed_text])[0]\n",
        "    encoded = pad_sequences([encoded], maxlen=max_sequence_len-1, padding='pre')\n",
        "    prob_distribution = word_model.predict(encoded)[0]\n",
        "    prediction = np.argmax(prob_distribution)\n",
        "    output_word = \"\"\n",
        "    for word, index in tokenizer.word_index.items():\n",
        "        if index == prediction:\n",
        "            output_word = word\n",
        "            break\n",
        "    seed_text += \" \" + output_word\n",
        "\n",
        "print(seed_text)"
      ]
    },
    {
      "cell_type": "code",
      "execution_count": 27,
      "metadata": {
        "colab": {
          "base_uri": "https://localhost:8080/"
        },
        "id": "c_IUvkRNWbjr",
        "outputId": "2ec60ad1-5543-404b-bcaa-554b0a969fc9"
      },
      "outputs": [
        {
          "name": "stdout",
          "output_type": "stream",
          "text": [
            "Epoch 1/10\n",
            "35/35 [==============================] - 16s 286ms/step - loss: 6.0048\n",
            "Epoch 2/10\n",
            "35/35 [==============================] - 5s 144ms/step - loss: 5.6163\n",
            "Epoch 3/10\n",
            "35/35 [==============================] - 6s 162ms/step - loss: 5.4363\n",
            "Epoch 4/10\n",
            "35/35 [==============================] - 4s 121ms/step - loss: 5.4028\n",
            "Epoch 5/10\n",
            "35/35 [==============================] - 3s 82ms/step - loss: 5.3928\n",
            "Epoch 6/10\n",
            "35/35 [==============================] - 4s 130ms/step - loss: 5.3891\n",
            "Epoch 7/10\n",
            "35/35 [==============================] - 3s 75ms/step - loss: 5.3862\n",
            "Epoch 8/10\n",
            "35/35 [==============================] - 2s 68ms/step - loss: 5.3854\n",
            "Epoch 9/10\n",
            "35/35 [==============================] - 2s 67ms/step - loss: 5.3832\n",
            "Epoch 10/10\n",
            "35/35 [==============================] - 2s 68ms/step - loss: 5.3839\n"
          ]
        },
        {
          "data": {
            "text/plain": [
              "<keras.callbacks.History at 0x7f7a50464b80>"
            ]
          },
          "execution_count": 27,
          "metadata": {},
          "output_type": "execute_result"
        }
      ],
      "source": [
        "word_model2 = tf.keras.Sequential()\n",
        "word_model2.add(Embedding(total_words, 10, input_length=max_sequence_len-1))\n",
        "word_model2.add(LSTM(128, return_sequences=True, activation='tanh'))\n",
        "word_model2.add(LSTM(64, return_sequences=True, activation='tanh'))\n",
        "word_model2.add(LSTM(32))\n",
        "word_model2.add(Dense(total_words, activation='softmax'))\n",
        "\n",
        "word_model2.compile(loss='categorical_crossentropy', optimizer='adam')\n",
        "word_model2.fit(predictors, tf.keras.utils.to_categorical(label, num_classes=total_words), epochs=10)"
      ]
    },
    {
      "cell_type": "code",
      "execution_count": 32,
      "metadata": {
        "colab": {
          "base_uri": "https://localhost:8080/"
        },
        "id": "WqJBsLM_qcL0",
        "outputId": "85d9392a-0284-4629-c848-b9d527de3c7d"
      },
      "outputs": [
        {
          "name": "stdout",
          "output_type": "stream",
          "text": [
            "1/1 [==============================] - 0s 66ms/step\n",
            "I want to edit\n"
          ]
        }
      ],
      "source": [
        "seed_text = \"I want to\"\n",
        "next_words = 1\n",
        "\n",
        "for _ in range(next_words):\n",
        "    encoded = tokenizer.texts_to_sequences([seed_text])[0]\n",
        "    encoded = pad_sequences([encoded], maxlen=max_sequence_len-1, padding='pre')\n",
        "    prob_distribution = word_model2.predict(encoded)[0]\n",
        "    prediction = np.argmax(prob_distribution)\n",
        "    output_word = \"\"\n",
        "    for word, index in tokenizer.word_index.items():\n",
        "        if index == prediction:\n",
        "            output_word = word\n",
        "            break\n",
        "    seed_text += \" \" + output_word\n",
        "\n",
        "print(seed_text)"
      ]
    },
    {
      "attachments": {},
      "cell_type": "markdown",
      "metadata": {
        "id": "19ZKfGZXNHex"
      },
      "source": [
        "##Двунаправеленная LSTM"
      ]
    },
    {
      "cell_type": "code",
      "execution_count": 33,
      "metadata": {
        "colab": {
          "base_uri": "https://localhost:8080/"
        },
        "id": "27UWgdzYrCis",
        "outputId": "5b24ffc3-a28e-431c-e2d8-ae6a3c754aea"
      },
      "outputs": [
        {
          "name": "stdout",
          "output_type": "stream",
          "text": [
            "Epoch 1/10\n",
            "35/35 [==============================] - 21s 227ms/step - loss: 5.9079\n",
            "Epoch 2/10\n",
            "35/35 [==============================] - 8s 231ms/step - loss: 5.5013\n",
            "Epoch 3/10\n",
            "35/35 [==============================] - 7s 186ms/step - loss: 5.4238\n",
            "Epoch 4/10\n",
            "35/35 [==============================] - 8s 244ms/step - loss: 5.4079\n",
            "Epoch 5/10\n",
            "35/35 [==============================] - 5s 142ms/step - loss: 5.4036\n",
            "Epoch 6/10\n",
            "35/35 [==============================] - 5s 152ms/step - loss: 5.4005\n",
            "Epoch 7/10\n",
            "35/35 [==============================] - 4s 120ms/step - loss: 5.3947\n",
            "Epoch 8/10\n",
            "35/35 [==============================] - 5s 131ms/step - loss: 5.3924\n",
            "Epoch 9/10\n",
            "35/35 [==============================] - 5s 141ms/step - loss: 5.3935\n",
            "Epoch 10/10\n",
            "35/35 [==============================] - 4s 117ms/step - loss: 5.3915\n"
          ]
        },
        {
          "data": {
            "text/plain": [
              "<keras.callbacks.History at 0x7f7a4ea12ce0>"
            ]
          },
          "execution_count": 33,
          "metadata": {},
          "output_type": "execute_result"
        }
      ],
      "source": [
        "from tensorflow.keras.layers import Bidirectional\n",
        "word_model3 = tf.keras.Sequential()\n",
        "word_model3.add(Embedding(total_words, 10, input_length=max_sequence_len-1))\n",
        "word_model3.add(Bidirectional(LSTM(128, return_sequences=True, activation='tanh')))\n",
        "word_model3.add(Bidirectional(LSTM(64, return_sequences=True, activation='tanh')))\n",
        "word_model3.add(Bidirectional(LSTM(32)))\n",
        "word_model3.add(Dense(total_words, activation='softmax'))\n",
        "\n",
        "word_model3.compile(loss='categorical_crossentropy', optimizer='adam')\n",
        "word_model3.fit(predictors, tf.keras.utils.to_categorical(label, num_classes=total_words), epochs=10)"
      ]
    },
    {
      "cell_type": "code",
      "execution_count": 35,
      "metadata": {
        "colab": {
          "base_uri": "https://localhost:8080/"
        },
        "id": "dDuPKbHDtVNd",
        "outputId": "fd3715f5-7a33-45a6-ccca-5f3279b56e6e"
      },
      "outputs": [
        {
          "name": "stdout",
          "output_type": "stream",
          "text": [
            "1/1 [==============================] - 0s 102ms/step\n",
            "I want to edit\n"
          ]
        }
      ],
      "source": [
        "seed_text = \"I want to\"\n",
        "next_words = 1\n",
        "\n",
        "for _ in range(next_words):\n",
        "    encoded = tokenizer.texts_to_sequences([seed_text])[0]\n",
        "    encoded = pad_sequences([encoded], maxlen=max_sequence_len-1, padding='pre')\n",
        "    prob_distribution = word_model3.predict(encoded)[0]\n",
        "    prediction = np.argmax(prob_distribution)\n",
        "    output_word = \"\"\n",
        "    for word, index in tokenizer.word_index.items():\n",
        "        if index == prediction:\n",
        "            output_word = word\n",
        "            break\n",
        "    seed_text += \" \" + output_word\n",
        "\n",
        "print(seed_text)"
      ]
    }
  ],
  "metadata": {
    "accelerator": "GPU",
    "colab": {
      "gpuType": "T4",
      "provenance": []
    },
    "gpuClass": "standard",
    "kernelspec": {
      "display_name": "Python 3",
      "name": "python3"
    },
    "language_info": {
      "name": "python"
    },
    "widgets": {
      "application/vnd.jupyter.widget-state+json": {
        "00c0db47d7fc48ae8d21c93652a04ca3": {
          "model_module": "@jupyter-widgets/controls",
          "model_module_version": "1.5.0",
          "model_name": "DescriptionStyleModel",
          "state": {
            "_model_module": "@jupyter-widgets/controls",
            "_model_module_version": "1.5.0",
            "_model_name": "DescriptionStyleModel",
            "_view_count": null,
            "_view_module": "@jupyter-widgets/base",
            "_view_module_version": "1.2.0",
            "_view_name": "StyleView",
            "description_width": ""
          }
        },
        "037c78609b2b46bfa7d45e92db593424": {
          "model_module": "@jupyter-widgets/controls",
          "model_module_version": "1.5.0",
          "model_name": "HTMLModel",
          "state": {
            "_dom_classes": [],
            "_model_module": "@jupyter-widgets/controls",
            "_model_module_version": "1.5.0",
            "_model_name": "HTMLModel",
            "_view_count": null,
            "_view_module": "@jupyter-widgets/controls",
            "_view_module_version": "1.5.0",
            "_view_name": "HTMLView",
            "description": "",
            "description_tooltip": null,
            "layout": "IPY_MODEL_648e5cc2e27c4ba09320401776146f27",
            "placeholder": "​",
            "style": "IPY_MODEL_58248f3f73e64be3b9083883fef33375",
            "value": "Downloading (…)/main/tokenizer.json: 100%"
          }
        },
        "1211daea92424bc3a4c7d9d5bfb7a9f1": {
          "model_module": "@jupyter-widgets/controls",
          "model_module_version": "1.5.0",
          "model_name": "FloatProgressModel",
          "state": {
            "_dom_classes": [],
            "_model_module": "@jupyter-widgets/controls",
            "_model_module_version": "1.5.0",
            "_model_name": "FloatProgressModel",
            "_view_count": null,
            "_view_module": "@jupyter-widgets/controls",
            "_view_module_version": "1.5.0",
            "_view_name": "ProgressView",
            "bar_style": "success",
            "description": "",
            "description_tooltip": null,
            "layout": "IPY_MODEL_f72fd8cb509043b295fad11ebd79993d",
            "max": 28,
            "min": 0,
            "orientation": "horizontal",
            "style": "IPY_MODEL_e883983c019f4f029b0c78096403342e",
            "value": 28
          }
        },
        "13b3694f1d40493fbcb8dfe57f15ac20": {
          "model_module": "@jupyter-widgets/controls",
          "model_module_version": "1.5.0",
          "model_name": "DescriptionStyleModel",
          "state": {
            "_model_module": "@jupyter-widgets/controls",
            "_model_module_version": "1.5.0",
            "_model_name": "DescriptionStyleModel",
            "_view_count": null,
            "_view_module": "@jupyter-widgets/base",
            "_view_module_version": "1.2.0",
            "_view_name": "StyleView",
            "description_width": ""
          }
        },
        "16da72a7e2ac45dfb424cd46964c670c": {
          "model_module": "@jupyter-widgets/controls",
          "model_module_version": "1.5.0",
          "model_name": "FloatProgressModel",
          "state": {
            "_dom_classes": [],
            "_model_module": "@jupyter-widgets/controls",
            "_model_module_version": "1.5.0",
            "_model_name": "FloatProgressModel",
            "_view_count": null,
            "_view_module": "@jupyter-widgets/controls",
            "_view_module_version": "1.5.0",
            "_view_name": "ProgressView",
            "bar_style": "success",
            "description": "",
            "description_tooltip": null,
            "layout": "IPY_MODEL_8d1b4d7fd67141e99d1ee583edeef7c0",
            "max": 231508,
            "min": 0,
            "orientation": "horizontal",
            "style": "IPY_MODEL_3ee9a792f6db4471b16fa87191dffd5b",
            "value": 231508
          }
        },
        "20e3b6fcc75342009adf0dc5f220e461": {
          "model_module": "@jupyter-widgets/base",
          "model_module_version": "1.2.0",
          "model_name": "LayoutModel",
          "state": {
            "_model_module": "@jupyter-widgets/base",
            "_model_module_version": "1.2.0",
            "_model_name": "LayoutModel",
            "_view_count": null,
            "_view_module": "@jupyter-widgets/base",
            "_view_module_version": "1.2.0",
            "_view_name": "LayoutView",
            "align_content": null,
            "align_items": null,
            "align_self": null,
            "border": null,
            "bottom": null,
            "display": null,
            "flex": null,
            "flex_flow": null,
            "grid_area": null,
            "grid_auto_columns": null,
            "grid_auto_flow": null,
            "grid_auto_rows": null,
            "grid_column": null,
            "grid_gap": null,
            "grid_row": null,
            "grid_template_areas": null,
            "grid_template_columns": null,
            "grid_template_rows": null,
            "height": null,
            "justify_content": null,
            "justify_items": null,
            "left": null,
            "margin": null,
            "max_height": null,
            "max_width": null,
            "min_height": null,
            "min_width": null,
            "object_fit": null,
            "object_position": null,
            "order": null,
            "overflow": null,
            "overflow_x": null,
            "overflow_y": null,
            "padding": null,
            "right": null,
            "top": null,
            "visibility": null,
            "width": null
          }
        },
        "2b41f933ec6043ab8a214699617202e5": {
          "model_module": "@jupyter-widgets/controls",
          "model_module_version": "1.5.0",
          "model_name": "FloatProgressModel",
          "state": {
            "_dom_classes": [],
            "_model_module": "@jupyter-widgets/controls",
            "_model_module_version": "1.5.0",
            "_model_name": "FloatProgressModel",
            "_view_count": null,
            "_view_module": "@jupyter-widgets/controls",
            "_view_module_version": "1.5.0",
            "_view_name": "ProgressView",
            "bar_style": "success",
            "description": "",
            "description_tooltip": null,
            "layout": "IPY_MODEL_d4be1b8541bf441db70b9dc2a5c3d580",
            "max": 570,
            "min": 0,
            "orientation": "horizontal",
            "style": "IPY_MODEL_8c85a462e98a4683b23abee73a568146",
            "value": 570
          }
        },
        "2c99e48e1f384639881df1c873d4b9cc": {
          "model_module": "@jupyter-widgets/controls",
          "model_module_version": "1.5.0",
          "model_name": "HBoxModel",
          "state": {
            "_dom_classes": [],
            "_model_module": "@jupyter-widgets/controls",
            "_model_module_version": "1.5.0",
            "_model_name": "HBoxModel",
            "_view_count": null,
            "_view_module": "@jupyter-widgets/controls",
            "_view_module_version": "1.5.0",
            "_view_name": "HBoxView",
            "box_style": "",
            "children": [
              "IPY_MODEL_9947b437bf9e405382b1eb24988c485b",
              "IPY_MODEL_16da72a7e2ac45dfb424cd46964c670c",
              "IPY_MODEL_48d19fd4310c432fa405b4785a9340db"
            ],
            "layout": "IPY_MODEL_941cb2f3ba5c4c7baf011c90d3c59e09"
          }
        },
        "2d3b329d390f44a1ba658268026ccd74": {
          "model_module": "@jupyter-widgets/base",
          "model_module_version": "1.2.0",
          "model_name": "LayoutModel",
          "state": {
            "_model_module": "@jupyter-widgets/base",
            "_model_module_version": "1.2.0",
            "_model_name": "LayoutModel",
            "_view_count": null,
            "_view_module": "@jupyter-widgets/base",
            "_view_module_version": "1.2.0",
            "_view_name": "LayoutView",
            "align_content": null,
            "align_items": null,
            "align_self": null,
            "border": null,
            "bottom": null,
            "display": null,
            "flex": null,
            "flex_flow": null,
            "grid_area": null,
            "grid_auto_columns": null,
            "grid_auto_flow": null,
            "grid_auto_rows": null,
            "grid_column": null,
            "grid_gap": null,
            "grid_row": null,
            "grid_template_areas": null,
            "grid_template_columns": null,
            "grid_template_rows": null,
            "height": null,
            "justify_content": null,
            "justify_items": null,
            "left": null,
            "margin": null,
            "max_height": null,
            "max_width": null,
            "min_height": null,
            "min_width": null,
            "object_fit": null,
            "object_position": null,
            "order": null,
            "overflow": null,
            "overflow_x": null,
            "overflow_y": null,
            "padding": null,
            "right": null,
            "top": null,
            "visibility": null,
            "width": null
          }
        },
        "3c037bf7b31843a5905eafccecd3844b": {
          "model_module": "@jupyter-widgets/controls",
          "model_module_version": "1.5.0",
          "model_name": "HBoxModel",
          "state": {
            "_dom_classes": [],
            "_model_module": "@jupyter-widgets/controls",
            "_model_module_version": "1.5.0",
            "_model_name": "HBoxModel",
            "_view_count": null,
            "_view_module": "@jupyter-widgets/controls",
            "_view_module_version": "1.5.0",
            "_view_name": "HBoxView",
            "box_style": "",
            "children": [
              "IPY_MODEL_f7b943279e3f403baba076b05e52e5c7",
              "IPY_MODEL_1211daea92424bc3a4c7d9d5bfb7a9f1",
              "IPY_MODEL_c066fe7776414c6598b6233420ed5765"
            ],
            "layout": "IPY_MODEL_20e3b6fcc75342009adf0dc5f220e461"
          }
        },
        "3ee9a792f6db4471b16fa87191dffd5b": {
          "model_module": "@jupyter-widgets/controls",
          "model_module_version": "1.5.0",
          "model_name": "ProgressStyleModel",
          "state": {
            "_model_module": "@jupyter-widgets/controls",
            "_model_module_version": "1.5.0",
            "_model_name": "ProgressStyleModel",
            "_view_count": null,
            "_view_module": "@jupyter-widgets/base",
            "_view_module_version": "1.2.0",
            "_view_name": "StyleView",
            "bar_color": null,
            "description_width": ""
          }
        },
        "422580688c7a412ca1aefae6e0928d5a": {
          "model_module": "@jupyter-widgets/controls",
          "model_module_version": "1.5.0",
          "model_name": "DescriptionStyleModel",
          "state": {
            "_model_module": "@jupyter-widgets/controls",
            "_model_module_version": "1.5.0",
            "_model_name": "DescriptionStyleModel",
            "_view_count": null,
            "_view_module": "@jupyter-widgets/base",
            "_view_module_version": "1.2.0",
            "_view_name": "StyleView",
            "description_width": ""
          }
        },
        "422a9ff4f4a74a4e89ccd41ba3be7312": {
          "model_module": "@jupyter-widgets/base",
          "model_module_version": "1.2.0",
          "model_name": "LayoutModel",
          "state": {
            "_model_module": "@jupyter-widgets/base",
            "_model_module_version": "1.2.0",
            "_model_name": "LayoutModel",
            "_view_count": null,
            "_view_module": "@jupyter-widgets/base",
            "_view_module_version": "1.2.0",
            "_view_name": "LayoutView",
            "align_content": null,
            "align_items": null,
            "align_self": null,
            "border": null,
            "bottom": null,
            "display": null,
            "flex": null,
            "flex_flow": null,
            "grid_area": null,
            "grid_auto_columns": null,
            "grid_auto_flow": null,
            "grid_auto_rows": null,
            "grid_column": null,
            "grid_gap": null,
            "grid_row": null,
            "grid_template_areas": null,
            "grid_template_columns": null,
            "grid_template_rows": null,
            "height": null,
            "justify_content": null,
            "justify_items": null,
            "left": null,
            "margin": null,
            "max_height": null,
            "max_width": null,
            "min_height": null,
            "min_width": null,
            "object_fit": null,
            "object_position": null,
            "order": null,
            "overflow": null,
            "overflow_x": null,
            "overflow_y": null,
            "padding": null,
            "right": null,
            "top": null,
            "visibility": null,
            "width": null
          }
        },
        "48350c74920a43e097e7cb4f74472879": {
          "model_module": "@jupyter-widgets/controls",
          "model_module_version": "1.5.0",
          "model_name": "HTMLModel",
          "state": {
            "_dom_classes": [],
            "_model_module": "@jupyter-widgets/controls",
            "_model_module_version": "1.5.0",
            "_model_name": "HTMLModel",
            "_view_count": null,
            "_view_module": "@jupyter-widgets/controls",
            "_view_module_version": "1.5.0",
            "_view_name": "HTMLView",
            "description": "",
            "description_tooltip": null,
            "layout": "IPY_MODEL_422a9ff4f4a74a4e89ccd41ba3be7312",
            "placeholder": "​",
            "style": "IPY_MODEL_13b3694f1d40493fbcb8dfe57f15ac20",
            "value": "Downloading (…)lve/main/config.json: 100%"
          }
        },
        "48d19fd4310c432fa405b4785a9340db": {
          "model_module": "@jupyter-widgets/controls",
          "model_module_version": "1.5.0",
          "model_name": "HTMLModel",
          "state": {
            "_dom_classes": [],
            "_model_module": "@jupyter-widgets/controls",
            "_model_module_version": "1.5.0",
            "_model_name": "HTMLModel",
            "_view_count": null,
            "_view_module": "@jupyter-widgets/controls",
            "_view_module_version": "1.5.0",
            "_view_name": "HTMLView",
            "description": "",
            "description_tooltip": null,
            "layout": "IPY_MODEL_da043449cdc543f1813cc183ba72bf7e",
            "placeholder": "​",
            "style": "IPY_MODEL_b42ae20e34d54c619417acee91067901",
            "value": " 232k/232k [00:00&lt;00:00, 4.13MB/s]"
          }
        },
        "58248f3f73e64be3b9083883fef33375": {
          "model_module": "@jupyter-widgets/controls",
          "model_module_version": "1.5.0",
          "model_name": "DescriptionStyleModel",
          "state": {
            "_model_module": "@jupyter-widgets/controls",
            "_model_module_version": "1.5.0",
            "_model_name": "DescriptionStyleModel",
            "_view_count": null,
            "_view_module": "@jupyter-widgets/base",
            "_view_module_version": "1.2.0",
            "_view_name": "StyleView",
            "description_width": ""
          }
        },
        "5af894f789cf4a0cba1843f717a3ed76": {
          "model_module": "@jupyter-widgets/controls",
          "model_module_version": "1.5.0",
          "model_name": "DescriptionStyleModel",
          "state": {
            "_model_module": "@jupyter-widgets/controls",
            "_model_module_version": "1.5.0",
            "_model_name": "DescriptionStyleModel",
            "_view_count": null,
            "_view_module": "@jupyter-widgets/base",
            "_view_module_version": "1.2.0",
            "_view_name": "StyleView",
            "description_width": ""
          }
        },
        "648e5cc2e27c4ba09320401776146f27": {
          "model_module": "@jupyter-widgets/base",
          "model_module_version": "1.2.0",
          "model_name": "LayoutModel",
          "state": {
            "_model_module": "@jupyter-widgets/base",
            "_model_module_version": "1.2.0",
            "_model_name": "LayoutModel",
            "_view_count": null,
            "_view_module": "@jupyter-widgets/base",
            "_view_module_version": "1.2.0",
            "_view_name": "LayoutView",
            "align_content": null,
            "align_items": null,
            "align_self": null,
            "border": null,
            "bottom": null,
            "display": null,
            "flex": null,
            "flex_flow": null,
            "grid_area": null,
            "grid_auto_columns": null,
            "grid_auto_flow": null,
            "grid_auto_rows": null,
            "grid_column": null,
            "grid_gap": null,
            "grid_row": null,
            "grid_template_areas": null,
            "grid_template_columns": null,
            "grid_template_rows": null,
            "height": null,
            "justify_content": null,
            "justify_items": null,
            "left": null,
            "margin": null,
            "max_height": null,
            "max_width": null,
            "min_height": null,
            "min_width": null,
            "object_fit": null,
            "object_position": null,
            "order": null,
            "overflow": null,
            "overflow_x": null,
            "overflow_y": null,
            "padding": null,
            "right": null,
            "top": null,
            "visibility": null,
            "width": null
          }
        },
        "86483fbae877457e82d7d6d1c8eb9f71": {
          "model_module": "@jupyter-widgets/base",
          "model_module_version": "1.2.0",
          "model_name": "LayoutModel",
          "state": {
            "_model_module": "@jupyter-widgets/base",
            "_model_module_version": "1.2.0",
            "_model_name": "LayoutModel",
            "_view_count": null,
            "_view_module": "@jupyter-widgets/base",
            "_view_module_version": "1.2.0",
            "_view_name": "LayoutView",
            "align_content": null,
            "align_items": null,
            "align_self": null,
            "border": null,
            "bottom": null,
            "display": null,
            "flex": null,
            "flex_flow": null,
            "grid_area": null,
            "grid_auto_columns": null,
            "grid_auto_flow": null,
            "grid_auto_rows": null,
            "grid_column": null,
            "grid_gap": null,
            "grid_row": null,
            "grid_template_areas": null,
            "grid_template_columns": null,
            "grid_template_rows": null,
            "height": null,
            "justify_content": null,
            "justify_items": null,
            "left": null,
            "margin": null,
            "max_height": null,
            "max_width": null,
            "min_height": null,
            "min_width": null,
            "object_fit": null,
            "object_position": null,
            "order": null,
            "overflow": null,
            "overflow_x": null,
            "overflow_y": null,
            "padding": null,
            "right": null,
            "top": null,
            "visibility": null,
            "width": null
          }
        },
        "893d20d25fdf45e79343ebcc490ea224": {
          "model_module": "@jupyter-widgets/base",
          "model_module_version": "1.2.0",
          "model_name": "LayoutModel",
          "state": {
            "_model_module": "@jupyter-widgets/base",
            "_model_module_version": "1.2.0",
            "_model_name": "LayoutModel",
            "_view_count": null,
            "_view_module": "@jupyter-widgets/base",
            "_view_module_version": "1.2.0",
            "_view_name": "LayoutView",
            "align_content": null,
            "align_items": null,
            "align_self": null,
            "border": null,
            "bottom": null,
            "display": null,
            "flex": null,
            "flex_flow": null,
            "grid_area": null,
            "grid_auto_columns": null,
            "grid_auto_flow": null,
            "grid_auto_rows": null,
            "grid_column": null,
            "grid_gap": null,
            "grid_row": null,
            "grid_template_areas": null,
            "grid_template_columns": null,
            "grid_template_rows": null,
            "height": null,
            "justify_content": null,
            "justify_items": null,
            "left": null,
            "margin": null,
            "max_height": null,
            "max_width": null,
            "min_height": null,
            "min_width": null,
            "object_fit": null,
            "object_position": null,
            "order": null,
            "overflow": null,
            "overflow_x": null,
            "overflow_y": null,
            "padding": null,
            "right": null,
            "top": null,
            "visibility": null,
            "width": null
          }
        },
        "89db6bb453a6490a8b87e31481117736": {
          "model_module": "@jupyter-widgets/base",
          "model_module_version": "1.2.0",
          "model_name": "LayoutModel",
          "state": {
            "_model_module": "@jupyter-widgets/base",
            "_model_module_version": "1.2.0",
            "_model_name": "LayoutModel",
            "_view_count": null,
            "_view_module": "@jupyter-widgets/base",
            "_view_module_version": "1.2.0",
            "_view_name": "LayoutView",
            "align_content": null,
            "align_items": null,
            "align_self": null,
            "border": null,
            "bottom": null,
            "display": null,
            "flex": null,
            "flex_flow": null,
            "grid_area": null,
            "grid_auto_columns": null,
            "grid_auto_flow": null,
            "grid_auto_rows": null,
            "grid_column": null,
            "grid_gap": null,
            "grid_row": null,
            "grid_template_areas": null,
            "grid_template_columns": null,
            "grid_template_rows": null,
            "height": null,
            "justify_content": null,
            "justify_items": null,
            "left": null,
            "margin": null,
            "max_height": null,
            "max_width": null,
            "min_height": null,
            "min_width": null,
            "object_fit": null,
            "object_position": null,
            "order": null,
            "overflow": null,
            "overflow_x": null,
            "overflow_y": null,
            "padding": null,
            "right": null,
            "top": null,
            "visibility": null,
            "width": null
          }
        },
        "8c85a462e98a4683b23abee73a568146": {
          "model_module": "@jupyter-widgets/controls",
          "model_module_version": "1.5.0",
          "model_name": "ProgressStyleModel",
          "state": {
            "_model_module": "@jupyter-widgets/controls",
            "_model_module_version": "1.5.0",
            "_model_name": "ProgressStyleModel",
            "_view_count": null,
            "_view_module": "@jupyter-widgets/base",
            "_view_module_version": "1.2.0",
            "_view_name": "StyleView",
            "bar_color": null,
            "description_width": ""
          }
        },
        "8d1b4d7fd67141e99d1ee583edeef7c0": {
          "model_module": "@jupyter-widgets/base",
          "model_module_version": "1.2.0",
          "model_name": "LayoutModel",
          "state": {
            "_model_module": "@jupyter-widgets/base",
            "_model_module_version": "1.2.0",
            "_model_name": "LayoutModel",
            "_view_count": null,
            "_view_module": "@jupyter-widgets/base",
            "_view_module_version": "1.2.0",
            "_view_name": "LayoutView",
            "align_content": null,
            "align_items": null,
            "align_self": null,
            "border": null,
            "bottom": null,
            "display": null,
            "flex": null,
            "flex_flow": null,
            "grid_area": null,
            "grid_auto_columns": null,
            "grid_auto_flow": null,
            "grid_auto_rows": null,
            "grid_column": null,
            "grid_gap": null,
            "grid_row": null,
            "grid_template_areas": null,
            "grid_template_columns": null,
            "grid_template_rows": null,
            "height": null,
            "justify_content": null,
            "justify_items": null,
            "left": null,
            "margin": null,
            "max_height": null,
            "max_width": null,
            "min_height": null,
            "min_width": null,
            "object_fit": null,
            "object_position": null,
            "order": null,
            "overflow": null,
            "overflow_x": null,
            "overflow_y": null,
            "padding": null,
            "right": null,
            "top": null,
            "visibility": null,
            "width": null
          }
        },
        "8e961a5e26cc4bf89549b672dee2ae0f": {
          "model_module": "@jupyter-widgets/base",
          "model_module_version": "1.2.0",
          "model_name": "LayoutModel",
          "state": {
            "_model_module": "@jupyter-widgets/base",
            "_model_module_version": "1.2.0",
            "_model_name": "LayoutModel",
            "_view_count": null,
            "_view_module": "@jupyter-widgets/base",
            "_view_module_version": "1.2.0",
            "_view_name": "LayoutView",
            "align_content": null,
            "align_items": null,
            "align_self": null,
            "border": null,
            "bottom": null,
            "display": null,
            "flex": null,
            "flex_flow": null,
            "grid_area": null,
            "grid_auto_columns": null,
            "grid_auto_flow": null,
            "grid_auto_rows": null,
            "grid_column": null,
            "grid_gap": null,
            "grid_row": null,
            "grid_template_areas": null,
            "grid_template_columns": null,
            "grid_template_rows": null,
            "height": null,
            "justify_content": null,
            "justify_items": null,
            "left": null,
            "margin": null,
            "max_height": null,
            "max_width": null,
            "min_height": null,
            "min_width": null,
            "object_fit": null,
            "object_position": null,
            "order": null,
            "overflow": null,
            "overflow_x": null,
            "overflow_y": null,
            "padding": null,
            "right": null,
            "top": null,
            "visibility": null,
            "width": null
          }
        },
        "90766b2245fc496dafcc0c35168f5c7d": {
          "model_module": "@jupyter-widgets/controls",
          "model_module_version": "1.5.0",
          "model_name": "HTMLModel",
          "state": {
            "_dom_classes": [],
            "_model_module": "@jupyter-widgets/controls",
            "_model_module_version": "1.5.0",
            "_model_name": "HTMLModel",
            "_view_count": null,
            "_view_module": "@jupyter-widgets/controls",
            "_view_module_version": "1.5.0",
            "_view_name": "HTMLView",
            "description": "",
            "description_tooltip": null,
            "layout": "IPY_MODEL_86483fbae877457e82d7d6d1c8eb9f71",
            "placeholder": "​",
            "style": "IPY_MODEL_00c0db47d7fc48ae8d21c93652a04ca3",
            "value": " 570/570 [00:00&lt;00:00, 14.2kB/s]"
          }
        },
        "941cb2f3ba5c4c7baf011c90d3c59e09": {
          "model_module": "@jupyter-widgets/base",
          "model_module_version": "1.2.0",
          "model_name": "LayoutModel",
          "state": {
            "_model_module": "@jupyter-widgets/base",
            "_model_module_version": "1.2.0",
            "_model_name": "LayoutModel",
            "_view_count": null,
            "_view_module": "@jupyter-widgets/base",
            "_view_module_version": "1.2.0",
            "_view_name": "LayoutView",
            "align_content": null,
            "align_items": null,
            "align_self": null,
            "border": null,
            "bottom": null,
            "display": null,
            "flex": null,
            "flex_flow": null,
            "grid_area": null,
            "grid_auto_columns": null,
            "grid_auto_flow": null,
            "grid_auto_rows": null,
            "grid_column": null,
            "grid_gap": null,
            "grid_row": null,
            "grid_template_areas": null,
            "grid_template_columns": null,
            "grid_template_rows": null,
            "height": null,
            "justify_content": null,
            "justify_items": null,
            "left": null,
            "margin": null,
            "max_height": null,
            "max_width": null,
            "min_height": null,
            "min_width": null,
            "object_fit": null,
            "object_position": null,
            "order": null,
            "overflow": null,
            "overflow_x": null,
            "overflow_y": null,
            "padding": null,
            "right": null,
            "top": null,
            "visibility": null,
            "width": null
          }
        },
        "9947b437bf9e405382b1eb24988c485b": {
          "model_module": "@jupyter-widgets/controls",
          "model_module_version": "1.5.0",
          "model_name": "HTMLModel",
          "state": {
            "_dom_classes": [],
            "_model_module": "@jupyter-widgets/controls",
            "_model_module_version": "1.5.0",
            "_model_name": "HTMLModel",
            "_view_count": null,
            "_view_module": "@jupyter-widgets/controls",
            "_view_module_version": "1.5.0",
            "_view_name": "HTMLView",
            "description": "",
            "description_tooltip": null,
            "layout": "IPY_MODEL_bf679544872c489fbe1252037fd9de19",
            "placeholder": "​",
            "style": "IPY_MODEL_5af894f789cf4a0cba1843f717a3ed76",
            "value": "Downloading (…)solve/main/vocab.txt: 100%"
          }
        },
        "9c9e75c91fbd4b41960bf28f56b72e6e": {
          "model_module": "@jupyter-widgets/controls",
          "model_module_version": "1.5.0",
          "model_name": "HTMLModel",
          "state": {
            "_dom_classes": [],
            "_model_module": "@jupyter-widgets/controls",
            "_model_module_version": "1.5.0",
            "_model_name": "HTMLModel",
            "_view_count": null,
            "_view_module": "@jupyter-widgets/controls",
            "_view_module_version": "1.5.0",
            "_view_name": "HTMLView",
            "description": "",
            "description_tooltip": null,
            "layout": "IPY_MODEL_89db6bb453a6490a8b87e31481117736",
            "placeholder": "​",
            "style": "IPY_MODEL_a54c1e4d80be43e4a1cc85797ac7dead",
            "value": " 466k/466k [00:00&lt;00:00, 23.1MB/s]"
          }
        },
        "a3bc63f364d544f9a8ffeabf19c99a3a": {
          "model_module": "@jupyter-widgets/controls",
          "model_module_version": "1.5.0",
          "model_name": "HBoxModel",
          "state": {
            "_dom_classes": [],
            "_model_module": "@jupyter-widgets/controls",
            "_model_module_version": "1.5.0",
            "_model_name": "HBoxModel",
            "_view_count": null,
            "_view_module": "@jupyter-widgets/controls",
            "_view_module_version": "1.5.0",
            "_view_name": "HBoxView",
            "box_style": "",
            "children": [
              "IPY_MODEL_48350c74920a43e097e7cb4f74472879",
              "IPY_MODEL_2b41f933ec6043ab8a214699617202e5",
              "IPY_MODEL_90766b2245fc496dafcc0c35168f5c7d"
            ],
            "layout": "IPY_MODEL_2d3b329d390f44a1ba658268026ccd74"
          }
        },
        "a54c1e4d80be43e4a1cc85797ac7dead": {
          "model_module": "@jupyter-widgets/controls",
          "model_module_version": "1.5.0",
          "model_name": "DescriptionStyleModel",
          "state": {
            "_model_module": "@jupyter-widgets/controls",
            "_model_module_version": "1.5.0",
            "_model_name": "DescriptionStyleModel",
            "_view_count": null,
            "_view_module": "@jupyter-widgets/base",
            "_view_module_version": "1.2.0",
            "_view_name": "StyleView",
            "description_width": ""
          }
        },
        "b42ae20e34d54c619417acee91067901": {
          "model_module": "@jupyter-widgets/controls",
          "model_module_version": "1.5.0",
          "model_name": "DescriptionStyleModel",
          "state": {
            "_model_module": "@jupyter-widgets/controls",
            "_model_module_version": "1.5.0",
            "_model_name": "DescriptionStyleModel",
            "_view_count": null,
            "_view_module": "@jupyter-widgets/base",
            "_view_module_version": "1.2.0",
            "_view_name": "StyleView",
            "description_width": ""
          }
        },
        "b570ea6e853149a7b481a554364dc363": {
          "model_module": "@jupyter-widgets/controls",
          "model_module_version": "1.5.0",
          "model_name": "ProgressStyleModel",
          "state": {
            "_model_module": "@jupyter-widgets/controls",
            "_model_module_version": "1.5.0",
            "_model_name": "ProgressStyleModel",
            "_view_count": null,
            "_view_module": "@jupyter-widgets/base",
            "_view_module_version": "1.2.0",
            "_view_name": "StyleView",
            "bar_color": null,
            "description_width": ""
          }
        },
        "bf679544872c489fbe1252037fd9de19": {
          "model_module": "@jupyter-widgets/base",
          "model_module_version": "1.2.0",
          "model_name": "LayoutModel",
          "state": {
            "_model_module": "@jupyter-widgets/base",
            "_model_module_version": "1.2.0",
            "_model_name": "LayoutModel",
            "_view_count": null,
            "_view_module": "@jupyter-widgets/base",
            "_view_module_version": "1.2.0",
            "_view_name": "LayoutView",
            "align_content": null,
            "align_items": null,
            "align_self": null,
            "border": null,
            "bottom": null,
            "display": null,
            "flex": null,
            "flex_flow": null,
            "grid_area": null,
            "grid_auto_columns": null,
            "grid_auto_flow": null,
            "grid_auto_rows": null,
            "grid_column": null,
            "grid_gap": null,
            "grid_row": null,
            "grid_template_areas": null,
            "grid_template_columns": null,
            "grid_template_rows": null,
            "height": null,
            "justify_content": null,
            "justify_items": null,
            "left": null,
            "margin": null,
            "max_height": null,
            "max_width": null,
            "min_height": null,
            "min_width": null,
            "object_fit": null,
            "object_position": null,
            "order": null,
            "overflow": null,
            "overflow_x": null,
            "overflow_y": null,
            "padding": null,
            "right": null,
            "top": null,
            "visibility": null,
            "width": null
          }
        },
        "c066fe7776414c6598b6233420ed5765": {
          "model_module": "@jupyter-widgets/controls",
          "model_module_version": "1.5.0",
          "model_name": "HTMLModel",
          "state": {
            "_dom_classes": [],
            "_model_module": "@jupyter-widgets/controls",
            "_model_module_version": "1.5.0",
            "_model_name": "HTMLModel",
            "_view_count": null,
            "_view_module": "@jupyter-widgets/controls",
            "_view_module_version": "1.5.0",
            "_view_name": "HTMLView",
            "description": "",
            "description_tooltip": null,
            "layout": "IPY_MODEL_cb2c8b06531c4d8e85c7f590479382fe",
            "placeholder": "​",
            "style": "IPY_MODEL_d1029e483d7f44488b5838f532602e79",
            "value": " 28.0/28.0 [00:00&lt;00:00, 686B/s]"
          }
        },
        "c0e31f82eea5421fbb675354ae5daeae": {
          "model_module": "@jupyter-widgets/controls",
          "model_module_version": "1.5.0",
          "model_name": "HBoxModel",
          "state": {
            "_dom_classes": [],
            "_model_module": "@jupyter-widgets/controls",
            "_model_module_version": "1.5.0",
            "_model_name": "HBoxModel",
            "_view_count": null,
            "_view_module": "@jupyter-widgets/controls",
            "_view_module_version": "1.5.0",
            "_view_name": "HBoxView",
            "box_style": "",
            "children": [
              "IPY_MODEL_037c78609b2b46bfa7d45e92db593424",
              "IPY_MODEL_e37374edc0b8460498195d586d7c4f9f",
              "IPY_MODEL_9c9e75c91fbd4b41960bf28f56b72e6e"
            ],
            "layout": "IPY_MODEL_893d20d25fdf45e79343ebcc490ea224"
          }
        },
        "cb2c8b06531c4d8e85c7f590479382fe": {
          "model_module": "@jupyter-widgets/base",
          "model_module_version": "1.2.0",
          "model_name": "LayoutModel",
          "state": {
            "_model_module": "@jupyter-widgets/base",
            "_model_module_version": "1.2.0",
            "_model_name": "LayoutModel",
            "_view_count": null,
            "_view_module": "@jupyter-widgets/base",
            "_view_module_version": "1.2.0",
            "_view_name": "LayoutView",
            "align_content": null,
            "align_items": null,
            "align_self": null,
            "border": null,
            "bottom": null,
            "display": null,
            "flex": null,
            "flex_flow": null,
            "grid_area": null,
            "grid_auto_columns": null,
            "grid_auto_flow": null,
            "grid_auto_rows": null,
            "grid_column": null,
            "grid_gap": null,
            "grid_row": null,
            "grid_template_areas": null,
            "grid_template_columns": null,
            "grid_template_rows": null,
            "height": null,
            "justify_content": null,
            "justify_items": null,
            "left": null,
            "margin": null,
            "max_height": null,
            "max_width": null,
            "min_height": null,
            "min_width": null,
            "object_fit": null,
            "object_position": null,
            "order": null,
            "overflow": null,
            "overflow_x": null,
            "overflow_y": null,
            "padding": null,
            "right": null,
            "top": null,
            "visibility": null,
            "width": null
          }
        },
        "d1029e483d7f44488b5838f532602e79": {
          "model_module": "@jupyter-widgets/controls",
          "model_module_version": "1.5.0",
          "model_name": "DescriptionStyleModel",
          "state": {
            "_model_module": "@jupyter-widgets/controls",
            "_model_module_version": "1.5.0",
            "_model_name": "DescriptionStyleModel",
            "_view_count": null,
            "_view_module": "@jupyter-widgets/base",
            "_view_module_version": "1.2.0",
            "_view_name": "StyleView",
            "description_width": ""
          }
        },
        "d4be1b8541bf441db70b9dc2a5c3d580": {
          "model_module": "@jupyter-widgets/base",
          "model_module_version": "1.2.0",
          "model_name": "LayoutModel",
          "state": {
            "_model_module": "@jupyter-widgets/base",
            "_model_module_version": "1.2.0",
            "_model_name": "LayoutModel",
            "_view_count": null,
            "_view_module": "@jupyter-widgets/base",
            "_view_module_version": "1.2.0",
            "_view_name": "LayoutView",
            "align_content": null,
            "align_items": null,
            "align_self": null,
            "border": null,
            "bottom": null,
            "display": null,
            "flex": null,
            "flex_flow": null,
            "grid_area": null,
            "grid_auto_columns": null,
            "grid_auto_flow": null,
            "grid_auto_rows": null,
            "grid_column": null,
            "grid_gap": null,
            "grid_row": null,
            "grid_template_areas": null,
            "grid_template_columns": null,
            "grid_template_rows": null,
            "height": null,
            "justify_content": null,
            "justify_items": null,
            "left": null,
            "margin": null,
            "max_height": null,
            "max_width": null,
            "min_height": null,
            "min_width": null,
            "object_fit": null,
            "object_position": null,
            "order": null,
            "overflow": null,
            "overflow_x": null,
            "overflow_y": null,
            "padding": null,
            "right": null,
            "top": null,
            "visibility": null,
            "width": null
          }
        },
        "da043449cdc543f1813cc183ba72bf7e": {
          "model_module": "@jupyter-widgets/base",
          "model_module_version": "1.2.0",
          "model_name": "LayoutModel",
          "state": {
            "_model_module": "@jupyter-widgets/base",
            "_model_module_version": "1.2.0",
            "_model_name": "LayoutModel",
            "_view_count": null,
            "_view_module": "@jupyter-widgets/base",
            "_view_module_version": "1.2.0",
            "_view_name": "LayoutView",
            "align_content": null,
            "align_items": null,
            "align_self": null,
            "border": null,
            "bottom": null,
            "display": null,
            "flex": null,
            "flex_flow": null,
            "grid_area": null,
            "grid_auto_columns": null,
            "grid_auto_flow": null,
            "grid_auto_rows": null,
            "grid_column": null,
            "grid_gap": null,
            "grid_row": null,
            "grid_template_areas": null,
            "grid_template_columns": null,
            "grid_template_rows": null,
            "height": null,
            "justify_content": null,
            "justify_items": null,
            "left": null,
            "margin": null,
            "max_height": null,
            "max_width": null,
            "min_height": null,
            "min_width": null,
            "object_fit": null,
            "object_position": null,
            "order": null,
            "overflow": null,
            "overflow_x": null,
            "overflow_y": null,
            "padding": null,
            "right": null,
            "top": null,
            "visibility": null,
            "width": null
          }
        },
        "db6ecb7971834083b570514da32830ab": {
          "model_module": "@jupyter-widgets/base",
          "model_module_version": "1.2.0",
          "model_name": "LayoutModel",
          "state": {
            "_model_module": "@jupyter-widgets/base",
            "_model_module_version": "1.2.0",
            "_model_name": "LayoutModel",
            "_view_count": null,
            "_view_module": "@jupyter-widgets/base",
            "_view_module_version": "1.2.0",
            "_view_name": "LayoutView",
            "align_content": null,
            "align_items": null,
            "align_self": null,
            "border": null,
            "bottom": null,
            "display": null,
            "flex": null,
            "flex_flow": null,
            "grid_area": null,
            "grid_auto_columns": null,
            "grid_auto_flow": null,
            "grid_auto_rows": null,
            "grid_column": null,
            "grid_gap": null,
            "grid_row": null,
            "grid_template_areas": null,
            "grid_template_columns": null,
            "grid_template_rows": null,
            "height": null,
            "justify_content": null,
            "justify_items": null,
            "left": null,
            "margin": null,
            "max_height": null,
            "max_width": null,
            "min_height": null,
            "min_width": null,
            "object_fit": null,
            "object_position": null,
            "order": null,
            "overflow": null,
            "overflow_x": null,
            "overflow_y": null,
            "padding": null,
            "right": null,
            "top": null,
            "visibility": null,
            "width": null
          }
        },
        "e37374edc0b8460498195d586d7c4f9f": {
          "model_module": "@jupyter-widgets/controls",
          "model_module_version": "1.5.0",
          "model_name": "FloatProgressModel",
          "state": {
            "_dom_classes": [],
            "_model_module": "@jupyter-widgets/controls",
            "_model_module_version": "1.5.0",
            "_model_name": "FloatProgressModel",
            "_view_count": null,
            "_view_module": "@jupyter-widgets/controls",
            "_view_module_version": "1.5.0",
            "_view_name": "ProgressView",
            "bar_style": "success",
            "description": "",
            "description_tooltip": null,
            "layout": "IPY_MODEL_8e961a5e26cc4bf89549b672dee2ae0f",
            "max": 466062,
            "min": 0,
            "orientation": "horizontal",
            "style": "IPY_MODEL_b570ea6e853149a7b481a554364dc363",
            "value": 466062
          }
        },
        "e883983c019f4f029b0c78096403342e": {
          "model_module": "@jupyter-widgets/controls",
          "model_module_version": "1.5.0",
          "model_name": "ProgressStyleModel",
          "state": {
            "_model_module": "@jupyter-widgets/controls",
            "_model_module_version": "1.5.0",
            "_model_name": "ProgressStyleModel",
            "_view_count": null,
            "_view_module": "@jupyter-widgets/base",
            "_view_module_version": "1.2.0",
            "_view_name": "StyleView",
            "bar_color": null,
            "description_width": ""
          }
        },
        "f72fd8cb509043b295fad11ebd79993d": {
          "model_module": "@jupyter-widgets/base",
          "model_module_version": "1.2.0",
          "model_name": "LayoutModel",
          "state": {
            "_model_module": "@jupyter-widgets/base",
            "_model_module_version": "1.2.0",
            "_model_name": "LayoutModel",
            "_view_count": null,
            "_view_module": "@jupyter-widgets/base",
            "_view_module_version": "1.2.0",
            "_view_name": "LayoutView",
            "align_content": null,
            "align_items": null,
            "align_self": null,
            "border": null,
            "bottom": null,
            "display": null,
            "flex": null,
            "flex_flow": null,
            "grid_area": null,
            "grid_auto_columns": null,
            "grid_auto_flow": null,
            "grid_auto_rows": null,
            "grid_column": null,
            "grid_gap": null,
            "grid_row": null,
            "grid_template_areas": null,
            "grid_template_columns": null,
            "grid_template_rows": null,
            "height": null,
            "justify_content": null,
            "justify_items": null,
            "left": null,
            "margin": null,
            "max_height": null,
            "max_width": null,
            "min_height": null,
            "min_width": null,
            "object_fit": null,
            "object_position": null,
            "order": null,
            "overflow": null,
            "overflow_x": null,
            "overflow_y": null,
            "padding": null,
            "right": null,
            "top": null,
            "visibility": null,
            "width": null
          }
        },
        "f7b943279e3f403baba076b05e52e5c7": {
          "model_module": "@jupyter-widgets/controls",
          "model_module_version": "1.5.0",
          "model_name": "HTMLModel",
          "state": {
            "_dom_classes": [],
            "_model_module": "@jupyter-widgets/controls",
            "_model_module_version": "1.5.0",
            "_model_name": "HTMLModel",
            "_view_count": null,
            "_view_module": "@jupyter-widgets/controls",
            "_view_module_version": "1.5.0",
            "_view_name": "HTMLView",
            "description": "",
            "description_tooltip": null,
            "layout": "IPY_MODEL_db6ecb7971834083b570514da32830ab",
            "placeholder": "​",
            "style": "IPY_MODEL_422580688c7a412ca1aefae6e0928d5a",
            "value": "Downloading (…)okenizer_config.json: 100%"
          }
        }
      }
    }
  },
  "nbformat": 4,
  "nbformat_minor": 0
}
